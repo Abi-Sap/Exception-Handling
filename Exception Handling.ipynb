{
 "cells": [
  {
   "cell_type": "markdown",
   "id": "612928c0",
   "metadata": {},
   "source": [
    "# Exception Handling"
   ]
  },
  {
   "cell_type": "markdown",
   "id": "c6f74796",
   "metadata": {},
   "source": [
    "#### Exception handling in Python is a critical aspect of writing robust and reliable code. It allows you to gracefully manage errors that might occur during program execution. "
   ]
  },
  {
   "cell_type": "markdown",
   "id": "5e689844",
   "metadata": {},
   "source": [
    "## Exceptions\n"
   ]
  },
  {
   "cell_type": "markdown",
   "id": "477ed46a",
   "metadata": {},
   "source": [
    "#### In Python, an exception is an event that disrupts the normal flow of the program's instructions. When an error occurs during execution, Python raises an exception."
   ]
  },
  {
   "cell_type": "markdown",
   "id": "cceb1dad",
   "metadata": {},
   "source": [
    "## Syntax of try, except, else, and finally"
   ]
  },
  {
   "cell_type": "markdown",
   "id": "a646c993",
   "metadata": {},
   "source": [
    "#### try: This block is used to wrap the code that might raise an exception.\n",
    "#### except: This block is executed if an exception occurs inside the try block.\n",
    "#### else: This block is executed if no exception occurs in the try block.\n",
    "#### finally: This block of code is always executed, whether an exception occurred or not. It's usually used for cleanup operations."
   ]
  },
  {
   "cell_type": "markdown",
   "id": "cfb32d7b",
   "metadata": {},
   "source": [
    "## Common Exceptions"
   ]
  },
  {
   "cell_type": "markdown",
   "id": "138833c0",
   "metadata": {},
   "source": [
    "\n",
    "#### SyntaxError: Raised when there is a syntax error in the code.\n",
    "#### NameError: Raised when a local or global name is not found.\n",
    "#### TypeError: Raised when an operation or function is applied to an object of an inappropriate type.\n",
    "#### ValueError: Raised when a built-in operation or function receives an argument that has the right type but an inappropriate value.\n",
    "#### FileNotFoundError: Raised when a file or directory is requested but doesn't exist.\n",
    "#### ZeroDivisionError: Raised when the second operand of a division or modulo operation is zero."
   ]
  },
  {
   "cell_type": "markdown",
   "id": "fada41e0",
   "metadata": {},
   "source": [
    "## Handling Exceptions"
   ]
  },
  {
   "cell_type": "markdown",
   "id": "abbc6c49",
   "metadata": {},
   "source": [
    "### Handling Specific Exceptions"
   ]
  },
  {
   "cell_type": "code",
   "execution_count": 7,
   "id": "f69df6f6",
   "metadata": {},
   "outputs": [
    {
     "name": "stdout",
     "output_type": "stream",
     "text": [
      "You can't divide by zero!\n"
     ]
    }
   ],
   "source": [
    "#Handling Specific Exceptions\n",
    "try:\n",
    "    result = 10 / 0\n",
    "except ZeroDivisionError:\n",
    "    print(\"You can't divide by zero!\")\n"
   ]
  },
  {
   "cell_type": "code",
   "execution_count": 8,
   "id": "ae91d0d8",
   "metadata": {},
   "outputs": [
    {
     "name": "stdout",
     "output_type": "stream",
     "text": [
      "SyntaxError in the code: '(' was never closed (<string>, line 2)\n"
     ]
    }
   ],
   "source": [
    "code_to_execute = \"\"\"\n",
    "result = (10 + 5\n",
    "print(\"Result:\", result)\n",
    "\"\"\"\n",
    "\n",
    "try:\n",
    "    exec(code_to_execute)\n",
    "except SyntaxError as e:\n",
    "    print(\"SyntaxError in the code:\", e)\n"
   ]
  },
  {
   "cell_type": "code",
   "execution_count": 9,
   "id": "10e5cf04",
   "metadata": {},
   "outputs": [
    {
     "name": "stdout",
     "output_type": "stream",
     "text": [
      "NameError: name 'undefined_variable' is not defined\n"
     ]
    }
   ],
   "source": [
    "try:\n",
    "    # Using a variable that is not defined\n",
    "    print(undefined_variable)\n",
    "except NameError as e:\n",
    "    print(\"NameError:\", e)\n"
   ]
  },
  {
   "cell_type": "markdown",
   "id": "facd7a55",
   "metadata": {},
   "source": [
    "### Using else with try-except"
   ]
  },
  {
   "cell_type": "code",
   "execution_count": 10,
   "id": "b6e902c5",
   "metadata": {},
   "outputs": [
    {
     "name": "stdout",
     "output_type": "stream",
     "text": [
      "File not found!\n"
     ]
    }
   ],
   "source": [
    "# Using else with try-except\n",
    "try:\n",
    "    file = open(\"example.txt\", \"r\")\n",
    "except FileNotFoundError:\n",
    "    print(\"File not found!\")\n",
    "else:\n",
    "    print(\"File opened successfully!\")\n",
    "    file.close()"
   ]
  },
  {
   "cell_type": "markdown",
   "id": "a05c8de8",
   "metadata": {},
   "source": [
    "### Using finally"
   ]
  },
  {
   "cell_type": "code",
   "execution_count": 11,
   "id": "d01d0bdc",
   "metadata": {},
   "outputs": [
    {
     "name": "stdout",
     "output_type": "stream",
     "text": [
      "File not found!\n",
      "Closing the file!\n"
     ]
    },
    {
     "ename": "NameError",
     "evalue": "name 'file' is not defined",
     "output_type": "error",
     "traceback": [
      "\u001b[1;31m---------------------------------------------------------------------------\u001b[0m",
      "\u001b[1;31mNameError\u001b[0m                                 Traceback (most recent call last)",
      "Cell \u001b[1;32mIn[11], line 9\u001b[0m\n\u001b[0;32m      7\u001b[0m \u001b[38;5;28;01mfinally\u001b[39;00m:\n\u001b[0;32m      8\u001b[0m     \u001b[38;5;28mprint\u001b[39m(\u001b[38;5;124m\"\u001b[39m\u001b[38;5;124mClosing the file!\u001b[39m\u001b[38;5;124m\"\u001b[39m)\n\u001b[1;32m----> 9\u001b[0m     file\u001b[38;5;241m.\u001b[39mclose()\n",
      "\u001b[1;31mNameError\u001b[0m: name 'file' is not defined"
     ]
    }
   ],
   "source": [
    "#Using finally\n",
    "try:\n",
    "    file = open(\"example.txt\", \"r\")\n",
    "    # Perform operations\n",
    "except FileNotFoundError:\n",
    "    print(\"File not found!\")\n",
    "finally:\n",
    "    print(\"Closing the file!\")\n",
    "    file.close()  # This will execute even if an exception occurs"
   ]
  },
  {
   "cell_type": "markdown",
   "id": "181cc924",
   "metadata": {},
   "source": [
    "### Handling Multiple Exceptions"
   ]
  },
  {
   "cell_type": "code",
   "execution_count": null,
   "id": "fdb77ebb",
   "metadata": {},
   "outputs": [],
   "source": [
    "#Handling Multiple Exceptions\n",
    "try:\n",
    "    x = int(input(\"Enter a number: \"))\n",
    "    result = 10 / x\n",
    "except ZeroDivisionError:\n",
    "    print(\"You can't divide by zero!\")\n",
    "except ValueError:\n",
    "    print(\"Invalid input! Please enter a valid integer.\")\n",
    "except Exception as e:\n",
    "    print(\"An unexpected error occurred:\", e)\n",
    "else:\n",
    "    print(\"Division result:\", result)\n",
    "finally:\n",
    "    print(\"This will always execute.\")\n"
   ]
  },
  {
   "cell_type": "markdown",
   "id": "444543e0",
   "metadata": {},
   "source": [
    "### Handling Exceptions in a Loop\n",
    "\n",
    "#### If you're processing a list of items and want to continue even if some items raise exceptions, you can handle the exception inside the loop."
   ]
  },
  {
   "cell_type": "code",
   "execution_count": null,
   "id": "4c23f2ee",
   "metadata": {},
   "outputs": [],
   "source": [
    "numbers = [5, 0, 10, \"a\", 20]\n",
    "\n",
    "for num in numbers:\n",
    "    try:\n",
    "        result = 100 / num\n",
    "    except ZeroDivisionError:\n",
    "        print(\"Error: Division by zero!\")\n",
    "    except TypeError:\n",
    "        print(\"Error: Unsupported operation for type.\")\n",
    "    else:\n",
    "        print(\"Result:\", result)\n"
   ]
  },
  {
   "cell_type": "markdown",
   "id": "818b8d6d",
   "metadata": {},
   "source": [
    "### Custom Exceptions\n",
    "\n",
    "#### You can also create your own custom exceptions by subclassing Exception."
   ]
  },
  {
   "cell_type": "code",
   "execution_count": null,
   "id": "96848793",
   "metadata": {},
   "outputs": [],
   "source": [
    "class MyCustomError(Exception):\n",
    "    def __init__(self, message):\n",
    "        super().__init__(message)\n",
    "\n",
    "try:\n",
    "    raise MyCustomError(\"This is a custom error message.\")\n",
    "except MyCustomError as e:\n",
    "    print(\"Caught custom exception:\", e)\n"
   ]
  },
  {
   "cell_type": "markdown",
   "id": "354b9d2a",
   "metadata": {},
   "source": [
    "### Raising Exceptions\n",
    "\n",
    "#### You can raise exceptions using the raise keyword."
   ]
  },
  {
   "cell_type": "code",
   "execution_count": null,
   "id": "46f9c6d6",
   "metadata": {},
   "outputs": [],
   "source": [
    "#Raising an Exception\n",
    "def check_value(value):\n",
    "    if value < 0:\n",
    "        raise ValueError(\"Value must be positive.\")\n",
    "\n",
    "try:\n",
    "    check_value(-1)\n",
    "except ValueError as e:\n",
    "    print(\"Exception caught:\", e)\n"
   ]
  },
  {
   "cell_type": "markdown",
   "id": "ed6393e3",
   "metadata": {},
   "source": [
    "### Using try-except with while Loop\n",
    "\n",
    "#### You can use exception handling inside a while loop to repeatedly ask for valid input."
   ]
  },
  {
   "cell_type": "code",
   "execution_count": null,
   "id": "366fe3b4",
   "metadata": {},
   "outputs": [],
   "source": [
    "while True:\n",
    "    try:\n",
    "        num = int(input(\"Enter a positive number: \"))\n",
    "        if num <= 0:\n",
    "            raise ValueError(\"Number must be positive!\")\n",
    "        break  # Exit the loop if input is valid\n",
    "    except ValueError as e:\n",
    "        print(\"Invalid input:\", e)\n",
    "\n",
    "print(\"You entered a valid number:\", num)\n"
   ]
  },
  {
   "cell_type": "markdown",
   "id": "8b0be22d",
   "metadata": {},
   "source": [
    "## Questions"
   ]
  },
  {
   "cell_type": "markdown",
   "id": "2552d185",
   "metadata": {},
   "source": [
    "### Question 1:\n",
    "\n",
    "#### Write a Python function that takes two numbers as input and divides them. Handle the ZeroDivisionError exception if the second number is zero."
   ]
  },
  {
   "cell_type": "code",
   "execution_count": null,
   "id": "006aa2e1",
   "metadata": {},
   "outputs": [],
   "source": [
    "def divide_numbers(a, b):\n",
    "    try:\n",
    "        result = a / b\n",
    "        print(\"Result:\", result)\n",
    "    except ZeroDivisionError as e:\n",
    "        print(\"Error:\", e)\n",
    "        print(\"Cannot divide by zero!\")\n",
    "\n",
    "# Test the function\n",
    "divide_numbers(10, 2)    # Result: 5.0\n",
    "divide_numbers(10, 0)    # Error: division by zero\n"
   ]
  },
  {
   "cell_type": "markdown",
   "id": "691c89a4",
   "metadata": {},
   "source": [
    "### Question 2:\n",
    "\n",
    "#### Write a Python function that opens a file, reads its content, and prints it. Handle the FileNotFoundError exception if the file does not exist."
   ]
  },
  {
   "cell_type": "code",
   "execution_count": null,
   "id": "399ea485",
   "metadata": {},
   "outputs": [],
   "source": [
    "def read_file(filename):\n",
    "    try:\n",
    "        with open(filename, \"r\") as file:\n",
    "            content = file.read()\n",
    "            print(\"Content of\", filename, \":\", content)\n",
    "    except FileNotFoundError as e:\n",
    "        print(\"Error:\", e)\n",
    "        print(\"File not found!\")\n",
    "\n",
    "# Test the function\n",
    "read_file(\"example.txt\")    # Assuming example.txt exists\n",
    "read_file(\"non_existent.txt\")  # Error: [Errno 2] No such file or directory: 'non_existent.txt'\n"
   ]
  },
  {
   "cell_type": "markdown",
   "id": "e2eb81f7",
   "metadata": {},
   "source": [
    "### Question 3:\n",
    "\n",
    "#### Write a Python function that converts a string to an integer. Handle the ValueError exception if the string cannot be converted to an integer."
   ]
  },
  {
   "cell_type": "code",
   "execution_count": null,
   "id": "8184fe62",
   "metadata": {},
   "outputs": [],
   "source": [
    "def string_to_integer(s):\n",
    "    try:\n",
    "        num = int(s)\n",
    "        print(\"Converted Integer:\", num)\n",
    "    except ValueError as e:\n",
    "        print(\"Error:\", e)\n",
    "        print(\"Invalid input for conversion!\")\n",
    "\n",
    "# Test the function\n",
    "string_to_integer(\"123\")    # Converted Integer: 123\n",
    "string_to_integer(\"abc\")    # Error: invalid literal for int() with base 10: 'abc'\n"
   ]
  },
  {
   "cell_type": "markdown",
   "id": "8d640bbb",
   "metadata": {},
   "source": [
    "### Question 4:\n",
    "\n",
    "#### Write a Python function that accesses an element from a list at a given index. Handle the IndexError exception if the index is out of range."
   ]
  },
  {
   "cell_type": "code",
   "execution_count": null,
   "id": "3d896ce2",
   "metadata": {},
   "outputs": [],
   "source": [
    "def access_list_element(lst, index):\n",
    "    try:\n",
    "        value = lst[index]\n",
    "        print(\"Value at index\", index, \":\", value)\n",
    "    except IndexError as e:\n",
    "        print(\"Error:\", e)\n",
    "        print(\"Index is out of range!\")\n",
    "\n",
    "# Test the function\n",
    "my_list = [10, 20, 30, 40]\n",
    "access_list_element(my_list, 2)    # Value at index 2: 30\n",
    "access_list_element(my_list, 5)    # Error: list index out of range\n"
   ]
  },
  {
   "cell_type": "markdown",
   "id": "28aa578e",
   "metadata": {},
   "source": [
    "### Question 5:\n",
    "\n",
    "#### Write a Python function that performs a risky operation. Handle any exception by printing a generic error message.\n",
    "\n"
   ]
  },
  {
   "cell_type": "code",
   "execution_count": 15,
   "id": "c4c2589a",
   "metadata": {},
   "outputs": [
    {
     "name": "stdout",
     "output_type": "stream",
     "text": [
      "Error: division by zero\n",
      "An error occurred during the operation.\n"
     ]
    }
   ],
   "source": [
    "def risky_operation():\n",
    "    try:\n",
    "        # Risky operation that may raise any kind of exception\n",
    "        result = 10 / 0\n",
    "        print(\"Result:\", result)\n",
    "    except Exception as e:  # Catch all exceptions\n",
    "        print(\"Error:\", e)\n",
    "        print(\"An error occurred during the operation.\")\n",
    "\n",
    "# Test the function\n",
    "risky_operation()    # Error: division by zero\n"
   ]
  },
  {
   "cell_type": "markdown",
   "id": "de62ad47",
   "metadata": {},
   "source": [
    "### Question 6:\n",
    "\n",
    "\n",
    "#### Write a Python function that performs a division operation and handles both ZeroDivisionError and TypeError exceptions.\n",
    "\n"
   ]
  },
  {
   "cell_type": "code",
   "execution_count": 14,
   "id": "d605e859-7564-4f0b-8a39-3fdb4047e277",
   "metadata": {},
   "outputs": [
    {
     "name": "stdout",
     "output_type": "stream",
     "text": [
      "Error division by zero\n",
      "Integer can't be divided by Zero.\n",
      "Error unsupported operand type(s) for /: 'int' and 'str'\n",
      "Error: Unsupported operation for type.\n"
     ]
    },
    {
     "data": {
      "text/plain": [
       "5.0"
      ]
     },
     "execution_count": 14,
     "metadata": {},
     "output_type": "execute_result"
    }
   ],
   "source": [
    "def division(a, b):\n",
    "    try:\n",
    "        div = a / b\n",
    "    except ZeroDivisionError as e:\n",
    "        print('Error', e)\n",
    "        print(\"Integer can't be divided by Zero.\")\n",
    "    except TypeError as e:\n",
    "        print('Error', e)\n",
    "        print(\"Error: Unsupported operation for type.\") \n",
    "    else:\n",
    "        return(div)\n",
    "division(10, 0)\n",
    "\n",
    "division(10, 'l')\n",
    "\n",
    "division(10, 2)\n"
   ]
  },
  {
   "cell_type": "markdown",
   "id": "33b3a11d",
   "metadata": {},
   "source": [
    "### Question 7:\n",
    "\n",
    "\n",
    "#### Write a Python function that accesses a dictionary element by key and handles the KeyError exception if the key does not exist.\n",
    "\n"
   ]
  },
  {
   "cell_type": "code",
   "execution_count": 17,
   "id": "a28d6911-89d6-4733-9714-bf3d7aa18be2",
   "metadata": {},
   "outputs": [
    {
     "name": "stdout",
     "output_type": "stream",
     "text": [
      "Alice\n",
      "KeyError: The key 'Country' cannot be found in the dictionary.\n",
      "None\n"
     ]
    }
   ],
   "source": [
    "def access_dict_value(dictionary, key):\n",
    "    try:\n",
    "        value = dictionary[key]\n",
    "        return value\n",
    "    except KeyError as e:\n",
    "        print(f\"KeyError: The key '{key}' cannot be found in the dictionary.\")\n",
    "        return None\n",
    "#Test the function\n",
    "dict_1 = {\n",
    "    'Name': 'Alice',\n",
    "    'Age': 25,\n",
    "    'City': 'Los Angeles'}\n",
    "\n",
    "# Accessing existing key\n",
    "print(access_dict_value(data, 'Name'))  # Output: Alice\n",
    "\n",
    "# Accessing non-existing key\n",
    "print(get_dict_value(data, 'Country'))  # Output: KeyError: The key 'Country' does not exist in the dictionary.\n",
    "                                        #         None"
   ]
  },
  {
   "cell_type": "markdown",
   "id": "b3b23822",
   "metadata": {},
   "source": [
    "### Question 8:\n",
    "\n",
    "\n",
    "#### Write a Python function that takes user input for two numbers, divides them, and handles the ZeroDivisionError and ValueError exceptions.\n",
    "\n"
   ]
  },
  {
   "cell_type": "code",
   "execution_count": 1,
   "id": "58cece13-a8e2-4ff4-adbe-6f8f4118c459",
   "metadata": {},
   "outputs": [
    {
     "name": "stdin",
     "output_type": "stream",
     "text": [
      "Enter the first number:  9\n",
      "Enter the second number:  0\n"
     ]
    },
    {
     "name": "stdout",
     "output_type": "stream",
     "text": [
      "Error: Division by zero is not allowed.\n"
     ]
    }
   ],
   "source": [
    "def division():\n",
    "    try:\n",
    "        # Take user input for two numbers\n",
    "        x = float(input(\"Enter the first number: \"))\n",
    "        y = float(input(\"Enter the second number: \"))\n",
    "        \n",
    "        # Perform division\n",
    "        result = x/ y\n",
    "        \n",
    "    except ZeroDivisionError:\n",
    "        print(\"Error: Division by zero is not allowed.\")\n",
    "    \n",
    "    except ValueError:\n",
    "        print(\"Error: Invalid input. Please enter numeric values.\")\n",
    "        \n",
    "    else:\n",
    "        return(result)\n",
    "      # Print the result\n",
    "        print(f\"The result of dividing {x} by {y} is {result}\")\n",
    "\n",
    "# Call the function\n",
    "division()\n"
   ]
  },
  {
   "cell_type": "markdown",
   "id": "c36baf28",
   "metadata": {},
   "source": [
    "### Question 9:\n",
    "\n",
    "\n",
    "#### Write a Python function that accesses an element from a nested dictionary and handles KeyError and TypeError exceptions.\n",
    "\n"
   ]
  },
  {
   "cell_type": "code",
   "execution_count": 36,
   "id": "d0a2017d-0683-4c94-a97c-571af0647b86",
   "metadata": {},
   "outputs": [
    {
     "name": "stdout",
     "output_type": "stream",
     "text": [
      "Nested value:  50\n"
     ]
    }
   ],
   "source": [
    "def get_nested_values(data, *keys):\n",
    "    try:\n",
    "        for key in keys:\n",
    "            data = data[key]\n",
    "        return data\n",
    "    except (KeyError, TypeError):\n",
    "        return None\n",
    "\n",
    "# Example usage:\n",
    "my_dict = {'a': {'b': {'c': 50}},'x': {'y': {'z': 100}}}\n",
    "\n",
    "result = get_nested_values(my_dict, 'a', 'b', 'c')\n",
    "print(\"Nested value: \", result)\n"
   ]
  }
 ],
 "metadata": {
  "kernelspec": {
   "display_name": "Python 3 (ipykernel)",
   "language": "python",
   "name": "python3"
  },
  "language_info": {
   "codemirror_mode": {
    "name": "ipython",
    "version": 3
   },
   "file_extension": ".py",
   "mimetype": "text/x-python",
   "name": "python",
   "nbconvert_exporter": "python",
   "pygments_lexer": "ipython3",
   "version": "3.11.7"
  }
 },
 "nbformat": 4,
 "nbformat_minor": 5
}
